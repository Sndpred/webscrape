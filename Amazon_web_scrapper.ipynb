{
  "nbformat": 4,
  "nbformat_minor": 0,
  "metadata": {
    "colab": {
      "provenance": []
    },
    "kernelspec": {
      "name": "python3",
      "display_name": "Python 3"
    },
    "language_info": {
      "name": "python"
    }
  },
  "cells": [
    {
      "cell_type": "markdown",
      "source": [
        "Import libraries"
      ],
      "metadata": {
        "id": "dfaV8Fo5KJvD"
      }
    },
    {
      "cell_type": "code",
      "execution_count": null,
      "metadata": {
        "id": "XhtNSSgHqbyG"
      },
      "outputs": [],
      "source": [
        "from bs4 import BeautifulSoup\n",
        "import requests\n",
        "import time\n",
        "import datetime\n",
        "import smtplib\n",
        "import pandas as pd"
      ]
    },
    {
      "cell_type": "code",
      "source": [
        "#connect to website\n",
        "\n",
        "URL = 'https://www.amazon.com/Funny-Data-Systems-Business-Analyst/dp/B07FNW9FGJ/ref=sr_1_3?dchild=1&keywords=data%2Banalyst%2Btshirt&qid=1626655184&sr=8-3&customId=B0752XJYNL&th=1'\n",
        "\n",
        "headers = {\"User-Agent\": \"Mozilla/5.0 (Windows NT 10.0; Win64; x64) AppleWebKit/537.36 (KHTML, like Gecko) Chrome/124.0.0.0 Safari/537.36 Edg/124.0.0.0\"}\n",
        "\n",
        "page = requests.get(URL, headers=headers)\n",
        "\n",
        "soup1 = BeautifulSoup(page.content, \"html.parser\")\n",
        "\n",
        "soup2 = BeautifulSoup(soup1.prettify(),\"html.parser\")\n",
        "\n",
        "#print(soup1)\n",
        "\n",
        "#print(soup2)\n",
        "\n",
        "title = soup2.find(id='productTitle').get_text()\n",
        "\n",
        "\n",
        "price_symbol = soup2.find(class_='a-price-symbol').get_text(strip=True)\n",
        "price_whole = soup2.find(class_='a-price-whole').get_text(strip=True)\n",
        "price_fraction = soup2.find(class_='a-price-fraction').get_text(strip=True)\n",
        "price = f'{price_symbol}{price_whole}{price_fraction}'\n",
        "\n",
        "\n",
        "\n",
        "\n",
        "\n",
        "print(title)\n",
        "print(price)\n",
        "\n",
        "\n",
        "\n"
      ],
      "metadata": {
        "colab": {
          "base_uri": "https://localhost:8080/"
        },
        "id": "POxdCK1hKNjR",
        "outputId": "f6a30e6d-5b1f-42e8-fd4c-ea710c0f7d1c"
      },
      "execution_count": null,
      "outputs": [
        {
          "output_type": "stream",
          "name": "stdout",
          "text": [
            "\n",
            "                   Funny Got Data MIS Data Systems Business Analyst T-Shirt\n",
            "                  \n",
            "$16.99\n"
          ]
        }
      ]
    },
    {
      "cell_type": "code",
      "source": [
        "price.strip()"
      ],
      "metadata": {
        "colab": {
          "base_uri": "https://localhost:8080/",
          "height": 36
        },
        "id": "G8XRsJomWgvN",
        "outputId": "44752801-d19a-4d57-b69a-1b48506c6b58"
      },
      "execution_count": null,
      "outputs": [
        {
          "output_type": "execute_result",
          "data": {
            "text/plain": [
              "'$16.99'"
            ],
            "application/vnd.google.colaboratory.intrinsic+json": {
              "type": "string"
            }
          },
          "metadata": {},
          "execution_count": 9
        }
      ]
    },
    {
      "cell_type": "code",
      "source": [
        "price.strip()[1:]"
      ],
      "metadata": {
        "colab": {
          "base_uri": "https://localhost:8080/",
          "height": 36
        },
        "id": "5tGIyqVneniF",
        "outputId": "4f230a82-856f-4926-fbbc-5746d3b5845b"
      },
      "execution_count": null,
      "outputs": [
        {
          "output_type": "execute_result",
          "data": {
            "text/plain": [
              "'16.99'"
            ],
            "application/vnd.google.colaboratory.intrinsic+json": {
              "type": "string"
            }
          },
          "metadata": {},
          "execution_count": 10
        }
      ]
    },
    {
      "cell_type": "code",
      "source": [
        "price = price.strip()[1:]\n",
        "title = title.strip()\n",
        "\n",
        "print(title)\n",
        "print(price)\n",
        "\n"
      ],
      "metadata": {
        "colab": {
          "base_uri": "https://localhost:8080/"
        },
        "id": "2A7Xx3Zbez7Z",
        "outputId": "93f31b7b-c759-44d9-ea3b-4e42c0d927a6"
      },
      "execution_count": null,
      "outputs": [
        {
          "output_type": "stream",
          "name": "stdout",
          "text": [
            "Funny Got Data MIS Data Systems Business Analyst T-Shirt\n",
            "16.99\n"
          ]
        }
      ]
    },
    {
      "cell_type": "code",
      "source": [
        "import datetime\n",
        "\n",
        "today = datetime.date.today()\n",
        "\n",
        "print(today)"
      ],
      "metadata": {
        "colab": {
          "base_uri": "https://localhost:8080/"
        },
        "id": "xk45yDXnuYg8",
        "outputId": "41c0af96-28a6-46ed-be0a-5ef0680b444c"
      },
      "execution_count": null,
      "outputs": [
        {
          "output_type": "stream",
          "name": "stdout",
          "text": [
            "2024-05-06\n"
          ]
        }
      ]
    },
    {
      "cell_type": "code",
      "source": [
        "from google.colab import drive\n",
        "drive.mount('/content/drive')\n"
      ],
      "metadata": {
        "colab": {
          "base_uri": "https://localhost:8080/"
        },
        "id": "P-cRNi9vvOUb",
        "outputId": "3615d911-7973-4030-bcad-8307422a56f3"
      },
      "execution_count": null,
      "outputs": [
        {
          "output_type": "stream",
          "name": "stdout",
          "text": [
            "Drive already mounted at /content/drive; to attempt to forcibly remount, call drive.mount(\"/content/drive\", force_remount=True).\n"
          ]
        }
      ]
    },
    {
      "cell_type": "code",
      "source": [
        "!ls '/content/drive/My Drive/'"
      ],
      "metadata": {
        "colab": {
          "base_uri": "https://localhost:8080/"
        },
        "id": "xOLHipBovYqK",
        "outputId": "6621e616-d70e-4156-ac88-8fc4e7ba3dbf"
      },
      "execution_count": null,
      "outputs": [
        {
          "output_type": "stream",
          "name": "stdout",
          "text": [
            " book.pdf  'Colab Notebooks'  'FPL +'  'Interview QA +'   photos   PP_DadMoM   Work\n"
          ]
        }
      ]
    },
    {
      "cell_type": "code",
      "source": [
        "import csv\n",
        "\n",
        "header = ['Title','Price', 'Date']\n",
        "data = [title,price, today]\n",
        "\n",
        "with open('/content/drive/My Drive/Colab Notebooks/scrapper.csv', 'w', newline='', encoding='UTF8') as f:\n",
        "  writer = csv.writer(f)\n",
        "  writer.writerow(header)\n",
        "  writer.writerow(data)"
      ],
      "metadata": {
        "id": "bsp8WvEjfrlb"
      },
      "execution_count": null,
      "outputs": []
    },
    {
      "cell_type": "code",
      "source": [
        "df = pd.read_csv('/content/drive/My Drive/Colab Notebooks/scrapper.csv')\n",
        "print(df)"
      ],
      "metadata": {
        "colab": {
          "base_uri": "https://localhost:8080/"
        },
        "id": "fPqBiB4I1vQv",
        "outputId": "272a2760-b4c6-433f-b9db-f384487588d2"
      },
      "execution_count": null,
      "outputs": [
        {
          "output_type": "stream",
          "name": "stdout",
          "text": [
            "                                                Title  Price        Date\n",
            "0   Funny Got Data MIS Data Systems Business Analy...  16.99  2024-05-06\n",
            "1   Funny Got Data MIS Data Systems Business Analy...  16.99  2024-05-06\n",
            "2   Funny Got Data MIS Data Systems Business Analy...  16.99  2024-05-06\n",
            "3   Funny Got Data MIS Data Systems Business Analy...  16.99  2024-05-06\n",
            "4   Funny Got Data MIS Data Systems Business Analy...  16.99  2024-05-06\n",
            "5   Funny Got Data MIS Data Systems Business Analy...  16.99  2024-05-06\n",
            "6   Funny Got Data MIS Data Systems Business Analy...  16.99  2024-05-06\n",
            "7   Funny Got Data MIS Data Systems Business Analy...  16.99  2024-05-06\n",
            "8   Funny Got Data MIS Data Systems Business Analy...  16.99  2024-05-06\n",
            "9   Funny Got Data MIS Data Systems Business Analy...  16.99  2024-05-06\n",
            "10  Funny Got Data MIS Data Systems Business Analy...  16.99  2024-05-06\n"
          ]
        }
      ]
    },
    {
      "cell_type": "code",
      "source": [
        "#append to csv\n",
        "with open('/content/drive/My Drive/Colab Notebooks/scrapper.csv', 'a+', newline='', encoding='UTF8') as f:\n",
        "  writer = csv.writer(f)\n",
        "  writer.writerow(data)"
      ],
      "metadata": {
        "id": "6aKGbZm117UL"
      },
      "execution_count": null,
      "outputs": []
    },
    {
      "cell_type": "code",
      "source": [
        "def check_price():\n",
        "  URL = 'https://www.amazon.com/Funny-Data-Systems-Business-Analyst/dp/B07FNW9FGJ/ref=sr_1_3?dchild=1&keywords=data%2Banalyst%2Btshirt&qid=1626655184&sr=8-3&customId=B0752XJYNL&th=1'\n",
        "\n",
        "  headers = {\"User-Agent\": \"Mozilla/5.0 (Windows NT 10.0; Win64; x64) AppleWebKit/537.36 (KHTML, like Gecko) Chrome/124.0.0.0 Safari/537.36 Edg/124.0.0.0\"}\n",
        "\n",
        "   #Try-except block to handle network issues\n",
        "  try:\n",
        "        page = requests.get(URL, headers=headers)\n",
        "  except requests.exceptions.ConnectionError as e:\n",
        "        print(f\"Error fetching the webpage: {e}\")\n",
        "        return\n",
        "\n",
        "  # Use lxml parser instead of html.parser\n",
        "  soup = BeautifulSoup(page.content, \"lxml\")\n",
        "\n",
        "    # Use select_one() instead of find() to avoid NoneType error\n",
        "  title_element = soup.select_one('#productTitle')\n",
        "\n",
        "  if title_element is not None:\n",
        "        title = title_element.get_text().strip()\n",
        "  else:\n",
        "        print(\"Title element not found\")\n",
        "        return\n",
        "\n",
        "  price_symbol = soup2.find(class_='a-price-symbol').get_text(strip=True)\n",
        "  price_whole = soup2.find(class_='a-price-whole').get_text(strip=True)\n",
        "  price_fraction = soup2.find(class_='a-price-fraction').get_text(strip=True)\n",
        "  price = f'{price_symbol}{price_whole}{price_fraction}'\n",
        "  price = price.strip()[1:]\n",
        "  title = title.strip()\n",
        "\n",
        "  import datetime\n",
        "\n",
        "  today = datetime.date.today()\n",
        "\n",
        "  import csv\n",
        "\n",
        "  header = ['Title','Price', 'Date']\n",
        "  data = [title,price, today]\n",
        "\n",
        "  with open('/content/drive/My Drive/Colab Notebooks/scrapper.csv', 'a+', newline='', encoding='UTF8') as f:\n",
        "    writer = csv.writer(f)\n",
        "    writer.writerow(data)"
      ],
      "metadata": {
        "id": "-DnTXWbD2WE8"
      },
      "execution_count": null,
      "outputs": []
    },
    {
      "cell_type": "code",
      "source": [
        "while(True):\n",
        "  check_price()\n",
        "  time.sleep(1)"
      ],
      "metadata": {
        "colab": {
          "base_uri": "https://localhost:8080/",
          "height": 368
        },
        "id": "_jRJkXdG3Gwj",
        "outputId": "f91fc472-ca79-4157-9bc3-7f776de89eb4"
      },
      "execution_count": null,
      "outputs": [
        {
          "output_type": "stream",
          "name": "stdout",
          "text": [
            "Title element not found\n",
            "Title element not found\n",
            "Title element not found\n",
            "Title element not found\n",
            "Title element not found\n",
            "Title element not found\n",
            "Title element not found\n",
            "Title element not found\n",
            "Title element not found\n",
            "Title element not found\n"
          ]
        },
        {
          "output_type": "error",
          "ename": "KeyboardInterrupt",
          "evalue": "",
          "traceback": [
            "\u001b[0;31m---------------------------------------------------------------------------\u001b[0m",
            "\u001b[0;31mKeyboardInterrupt\u001b[0m                         Traceback (most recent call last)",
            "\u001b[0;32m<ipython-input-48-6245bea2f196>\u001b[0m in \u001b[0;36m<cell line: 1>\u001b[0;34m()\u001b[0m\n\u001b[1;32m      1\u001b[0m \u001b[0;32mwhile\u001b[0m\u001b[0;34m(\u001b[0m\u001b[0;32mTrue\u001b[0m\u001b[0;34m)\u001b[0m\u001b[0;34m:\u001b[0m\u001b[0;34m\u001b[0m\u001b[0;34m\u001b[0m\u001b[0m\n\u001b[1;32m      2\u001b[0m   \u001b[0mcheck_price\u001b[0m\u001b[0;34m(\u001b[0m\u001b[0;34m)\u001b[0m\u001b[0;34m\u001b[0m\u001b[0;34m\u001b[0m\u001b[0m\n\u001b[0;32m----> 3\u001b[0;31m   \u001b[0mtime\u001b[0m\u001b[0;34m.\u001b[0m\u001b[0msleep\u001b[0m\u001b[0;34m(\u001b[0m\u001b[0;36m1\u001b[0m\u001b[0;34m)\u001b[0m\u001b[0;34m\u001b[0m\u001b[0;34m\u001b[0m\u001b[0m\n\u001b[0m",
            "\u001b[0;31mKeyboardInterrupt\u001b[0m: "
          ]
        }
      ]
    },
    {
      "cell_type": "code",
      "source": [
        "import pandas as pd\n",
        "\n",
        "df = pd.read_csv(r'/content/drive/My Drive/Colab Notebooks/scrapper.csv')\n",
        "\n",
        "print(df)"
      ],
      "metadata": {
        "colab": {
          "base_uri": "https://localhost:8080/"
        },
        "id": "QeOq-k5I3L--",
        "outputId": "08e90f15-87fe-4709-e642-81e008dcd563"
      },
      "execution_count": null,
      "outputs": [
        {
          "output_type": "stream",
          "name": "stdout",
          "text": [
            "                                                Title  Price        Date\n",
            "0   Funny Got Data MIS Data Systems Business Analy...  16.99  2024-05-06\n",
            "1   Funny Got Data MIS Data Systems Business Analy...  16.99  2024-05-06\n",
            "2   Funny Got Data MIS Data Systems Business Analy...  16.99  2024-05-06\n",
            "3   Funny Got Data MIS Data Systems Business Analy...  16.99  2024-05-06\n",
            "4   Funny Got Data MIS Data Systems Business Analy...  16.99  2024-05-06\n",
            "5   Funny Got Data MIS Data Systems Business Analy...  16.99  2024-05-06\n",
            "6   Funny Got Data MIS Data Systems Business Analy...  16.99  2024-05-06\n",
            "7   Funny Got Data MIS Data Systems Business Analy...  16.99  2024-05-06\n",
            "8   Funny Got Data MIS Data Systems Business Analy...  16.99  2024-05-06\n",
            "9   Funny Got Data MIS Data Systems Business Analy...  16.99  2024-05-06\n",
            "10  Funny Got Data MIS Data Systems Business Analy...  16.99  2024-05-06\n",
            "11  Funny Got Data MIS Data Systems Business Analy...  16.99  2024-05-06\n",
            "12  Funny Got Data MIS Data Systems Business Analy...  16.99  2024-05-06\n",
            "13  Funny Got Data MIS Data Systems Business Analy...  16.99  2024-05-06\n",
            "14  Funny Got Data MIS Data Systems Business Analy...  16.99  2024-05-06\n",
            "15  Funny Got Data MIS Data Systems Business Analy...  16.99  2024-05-06\n",
            "16  Funny Got Data MIS Data Systems Business Analy...  16.99  2024-05-06\n",
            "17  Funny Got Data MIS Data Systems Business Analy...  16.99  2024-05-06\n"
          ]
        }
      ]
    }
  ]
}